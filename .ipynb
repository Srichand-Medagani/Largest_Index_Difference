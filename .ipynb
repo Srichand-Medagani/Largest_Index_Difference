{
  "nbformat": 4,
  "nbformat_minor": 0,
  "metadata": {
    "colab": {
      "name": "Untitled3.ipynb",
      "provenance": []
    },
    "kernelspec": {
      "name": "python3",
      "display_name": "Python 3"
    }
  },
  "cells": [
    {
      "cell_type": "markdown",
      "metadata": {
        "id": "fXdz5AOwhZtr"
      },
      "source": [
        "**Largest index difference of decreasing elements**\n",
        "\n",
        "Given an array of n numbers find the largest difference in the starting and ending indexes of the elements of all possible strictly decreasing sub-arrays in the array.\n",
        "\n",
        "**Example Input:** 21, 13, 18, 10, 7, 3, 1\n",
        "\n",
        "**Output :** 4\n",
        "\n",
        "**Explanation:**\n",
        "\n",
        "1.Here for element 1 the decreasing sub-array can be mapped till 18. It is 18, 10, 7, 3, 1.\n",
        "\n",
        "2.Similarly, for 3 it can be mapped till 18 which is 18, 10, 7, 3. For 7 it can be mapped till 18 which is 18, 10, 7.\n",
        "\n",
        "3.For 10 it can be mapped till 18 which is 18, 10. For 18 there is no continuous decreasing sub-sequence.\n",
        "\n",
        "4.For 13 it is 21, 13.\n",
        "\n",
        "5.The largest difference in indexes is at index 2 and index 6 that is 4.\n",
        "\n",
        "**Input Format**\n",
        "\n",
        "1.The first line of input contains T, the number of test cases.\n",
        "\n",
        "2.In each of the next T lines is contained n number of elements in the array, followed by the array elements.\n",
        "\n",
        "**Output Format**\n",
        "\n",
        "Print T lines for all the required outputs"
      ]
    },
    {
      "cell_type": "code",
      "metadata": {
        "id": "sx8KuStnhm3I"
      },
      "source": [
        "t=int(input())\n",
        "c=0\n",
        "p=[]\n",
        "while(t>0):\n",
        "    l=list(map(int,input().split()))\n",
        "    n=len(l)\n",
        "    if l[n-1]<=l[n-2]:\n",
        "        l.append(l[n-1]+1)\n",
        "    for i in range(len(l)-1):\n",
        "        if l[i]>=l[i+1]:\n",
        "            c=c+1\n",
        "        else:\n",
        "            p.append(c)\n",
        "            c=0\n",
        "    print(max(p))\n",
        "    t=t-1"
      ],
      "execution_count": null,
      "outputs": []
    }
  ]
}